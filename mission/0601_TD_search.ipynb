{
  "cells": [
    {
      "cell_type": "code",
      "execution_count": null,
      "metadata": {
        "colab": {
          "base_uri": "https://localhost:8080/"
        },
        "id": "GYQ8WmrccHcP",
        "outputId": "bc0fb8ec-6539-4a4f-eb5b-76db380bae9b"
      },
      "outputs": [
        {
          "name": "stdout",
          "output_type": "stream",
          "text": [
            "Collecting tensorly\n",
            "  Downloading tensorly-0.7.0-py3-none-any.whl (198 kB)\n",
            "\u001b[?25l\r\u001b[K     |█▋                              | 10 kB 15.2 MB/s eta 0:00:01\r\u001b[K     |███▎                            | 20 kB 16.7 MB/s eta 0:00:01\r\u001b[K     |█████                           | 30 kB 17.6 MB/s eta 0:00:01\r\u001b[K     |██████▋                         | 40 kB 12.1 MB/s eta 0:00:01\r\u001b[K     |████████▎                       | 51 kB 6.4 MB/s eta 0:00:01\r\u001b[K     |██████████                      | 61 kB 5.9 MB/s eta 0:00:01\r\u001b[K     |███████████▋                    | 71 kB 5.7 MB/s eta 0:00:01\r\u001b[K     |█████████████▎                  | 81 kB 6.3 MB/s eta 0:00:01\r\u001b[K     |███████████████                 | 92 kB 6.1 MB/s eta 0:00:01\r\u001b[K     |████████████████▌               | 102 kB 5.7 MB/s eta 0:00:01\r\u001b[K     |██████████████████▏             | 112 kB 5.7 MB/s eta 0:00:01\r\u001b[K     |███████████████████▉            | 122 kB 5.7 MB/s eta 0:00:01\r\u001b[K     |█████████████████████▌          | 133 kB 5.7 MB/s eta 0:00:01\r\u001b[K     |███████████████████████▏        | 143 kB 5.7 MB/s eta 0:00:01\r\u001b[K     |████████████████████████▉       | 153 kB 5.7 MB/s eta 0:00:01\r\u001b[K     |██████████████████████████▌     | 163 kB 5.7 MB/s eta 0:00:01\r\u001b[K     |████████████████████████████▏   | 174 kB 5.7 MB/s eta 0:00:01\r\u001b[K     |█████████████████████████████▉  | 184 kB 5.7 MB/s eta 0:00:01\r\u001b[K     |███████████████████████████████▍| 194 kB 5.7 MB/s eta 0:00:01\r\u001b[K     |████████████████████████████████| 198 kB 5.7 MB/s \n",
            "\u001b[?25hRequirement already satisfied: numpy in /usr/local/lib/python3.7/dist-packages (from tensorly) (1.19.5)\n",
            "Requirement already satisfied: scipy in /usr/local/lib/python3.7/dist-packages (from tensorly) (1.4.1)\n",
            "Collecting nose\n",
            "  Downloading nose-1.3.7-py3-none-any.whl (154 kB)\n",
            "\u001b[K     |████████████████████████████████| 154 kB 27.3 MB/s \n",
            "\u001b[?25hInstalling collected packages: nose, tensorly\n",
            "Successfully installed nose-1.3.7 tensorly-0.7.0\n",
            "Collecting ptflops\n",
            "  Downloading ptflops-0.6.6.tar.gz (11 kB)\n",
            "Requirement already satisfied: torch in /usr/local/lib/python3.7/dist-packages (from ptflops) (1.9.0+cu111)\n",
            "Requirement already satisfied: typing-extensions in /usr/local/lib/python3.7/dist-packages (from torch->ptflops) (3.10.0.2)\n",
            "Building wheels for collected packages: ptflops\n",
            "  Building wheel for ptflops (setup.py) ... \u001b[?25l\u001b[?25hdone\n",
            "  Created wheel for ptflops: filename=ptflops-0.6.6-py3-none-any.whl size=8903 sha256=37eb9898a8d7d7c3d22b7f83e93f0fdf1323cd475ce99495eb2a053cb5cf65a4\n",
            "  Stored in directory: /root/.cache/pip/wheels/eb/7c/e5/2332373fcac1b39ba9eb95698ac370da3e14eaba5516e22721\n",
            "Successfully built ptflops\n",
            "Installing collected packages: ptflops\n",
            "Successfully installed ptflops-0.6.6\n"
          ]
        }
      ],
      "source": [
        "!pip install tensorly\n",
        "!pip install ptflops\n"
      ]
    },
    {
      "cell_type": "code",
      "execution_count": 1,
      "metadata": {
        "colab": {
          "base_uri": "https://localhost:8080/",
          "height": 120,
          "referenced_widgets": [
            "f8178411cc214044a636c5f7e5b26072",
            "15fe4566e0af4b02a7334ebb0e205ede",
            "1f203480263c4e378938b11a9441389a",
            "7802f60ff63b47ac9746d8d1b960105b",
            "47393cb112d34016aa10680f113e72bc",
            "d5dd95be29784a1a92d144c9d6f70277",
            "1992a81c363a426c9f00c52b480a43c1",
            "4ac73a7934aa4a63894421d2e2944326",
            "f31d81991d544872b4c5cb3f3b3dab82",
            "d80622ce84c04d31b7a8310b0c47d931",
            "f0cb2437356049f099293bfa80686139"
          ]
        },
        "id": "vBDjWAMjwi3k",
        "outputId": "6dc18e61-ed17-4e22-bd55-46c8eae37326"
      },
      "outputs": [
        {
          "name": "stdout",
          "output_type": "stream",
          "text": [
            "Files already downloaded and verified\n",
            "Files already downloaded and verified\n"
          ]
        }
      ],
      "source": [
        "# helper function for training(fine-tuning)\n",
        "import torch\n",
        "import torch.nn as nn\n",
        "import torch.optim as optim\n",
        "from torch.utils.data import DataLoader\n",
        "from torchvision import models, datasets, transforms\n",
        "from ptflops import get_model_complexity_info\n",
        "\n",
        "DEVICE = torch.device(\"cuda\" if torch.cuda.is_available() else \"cpu\")\n",
        "\n",
        "# Pytorch transforms composition\n",
        "transform = transforms.Compose(\n",
        "    [\n",
        "    transforms.ToTensor(),\n",
        "    transforms.Normalize((0.5, 0.5, 0.5), (0.5, 0.5, 0.5))\n",
        "    ]\n",
        ")\n",
        "# Pytorch Datasets class\n",
        "train_dataset = datasets.CIFAR10(\n",
        "    \"./data/cifar10\", train=True, download=True, transform=transform\n",
        ")\n",
        "test_dataset = datasets.CIFAR10(\n",
        "    \"./data/cifar10\", train=False, download=True, transform=transform\n",
        ")\n",
        "# Pytorch Dataloader class\n",
        "TRAIN_DATALOADER = DataLoader(\n",
        "    train_dataset, batch_size=64, shuffle=True, num_workers=2\n",
        ")\n",
        "TEST_DATALOADER = DataLoader(\n",
        "    test_dataset, batch_size=64, shuffle=False, num_workers=2\n",
        ")\n",
        "\n",
        "@torch.no_grad()\n",
        "def test(model):\n",
        "  model.eval()\n",
        "  correct, total = 0, 0\n",
        "  for i, data in enumerate(TEST_DATALOADER):\n",
        "    inputs, labels = data[0].to(DEVICE), data[1].to(DEVICE)\n",
        "    outputs = model(inputs)\n",
        "    _, preds = torch.max(outputs, 1)\n",
        "    correct += (preds == labels).sum()\n",
        "    total += labels.shape[0]\n",
        "  print(f\"Test acc: {correct/total*100.0:.2f}%\")\n",
        "\n",
        "def train(model, num_epochs=5):\n",
        "  criterion = nn.CrossEntropyLoss()\n",
        "  optimizer = optim.Adam(model.parameters())\n",
        "  for epoch in range(num_epochs):\n",
        "    model.train()\n",
        "    running_loss = 0.0\n",
        "    for i, data in enumerate(TRAIN_DATALOADER):\n",
        "      inputs, labels = data[0].to(DEVICE), data[1].to(DEVICE)\n",
        "      optimizer.zero_grad()\n",
        "      outputs = model(inputs)\n",
        "      \n",
        "      loss = criterion(outputs, labels)\n",
        "      loss.backward()\n",
        "      optimizer.step()\n",
        "      running_loss += loss.item()\n",
        "    print('epoch : %d loss: %.3f' %(epoch + 1, running_loss / (i+1)))\n",
        "    test(model)\n",
        "  print('Finished Training')"
      ]
    },
    {
      "cell_type": "markdown",
      "metadata": {
        "id": "pST3n6glaIyi"
      },
      "source": [
        "## 1. 모델 및 데이터로더 생성, 학습"
      ]
    },
    {
      "cell_type": "code",
      "execution_count": 18,
      "metadata": {
        "id": "NvzTkbepXYmt"
      },
      "outputs": [],
      "source": [
        "# Create model\n",
        "class MyModel(nn.Module):\n",
        "    def __init__(self, model_conv, label=10):\n",
        "        super().__init__()\n",
        "        self.features = model_conv.features\n",
        "        self.avgpool = nn.AdaptiveAvgPool2d((1, 1))\n",
        "        self.fc = nn.Linear(512, label)\n",
        "\n",
        "    def forward(self, x):\n",
        "        x = self.features(x)\n",
        "        x = self.avgpool(x)\n",
        "        x = torch.flatten(x, 1)\n",
        "        x = self.fc(x)\n",
        "        return x\n",
        "\n",
        "def create_model():\n",
        "  model_conv = models.vgg11_bn(pretrained=True)\n",
        "  return MyModel(model_conv)\n",
        "\n",
        "def get_macs(model):\n",
        "  model = model.to(DEVICE)\n",
        "  # calculate macs\n",
        "  macs, params = get_model_complexity_info(model, tuple([3, 32, 32]), as_strings=True,\n",
        "                                           print_per_layer_stat=True, verbose=True)\n",
        "  return macs, params"
      ]
    },
    {
      "cell_type": "code",
      "execution_count": 19,
      "metadata": {
        "colab": {
          "base_uri": "https://localhost:8080/",
          "height": 681,
          "referenced_widgets": [
            "7a496bc507a3403c8826363c4d360ad2",
            "094030b083644438af582cff36ca1aaa",
            "b812f2e1a25f4cca8e80262461b6ecc6",
            "58f910c3bc874ed888e49375e222a59b",
            "003a6279221d40f281855720596294f9",
            "f8bf895c92c14c8c989030ab6cd031e5",
            "74e8341328234e0dabbb5ca8a14cb932",
            "48d3303dae86409695baea724b874024",
            "ec238bf16aea45f8b84e1d6bc6bdcc62",
            "5f5ccfcae1a64366b1c9ebf3dd307e30",
            "b2dc7c4b5d13468499ea05eec48c6934"
          ]
        },
        "id": "jzQElINPXveE",
        "outputId": "8ea45dc2-d777-497d-cc18-8c88f815e24e"
      },
      "outputs": [
        {
          "name": "stdout",
          "output_type": "stream",
          "text": [
            "MyModel(\n",
            "  (features): Sequential(\n",
            "    (0): Conv2d(3, 64, kernel_size=(3, 3), stride=(1, 1), padding=(1, 1))\n",
            "    (1): BatchNorm2d(64, eps=1e-05, momentum=0.1, affine=True, track_running_stats=True)\n",
            "    (2): ReLU(inplace=True)\n",
            "    (3): MaxPool2d(kernel_size=2, stride=2, padding=0, dilation=1, ceil_mode=False)\n",
            "    (4): Conv2d(64, 128, kernel_size=(3, 3), stride=(1, 1), padding=(1, 1))\n",
            "    (5): BatchNorm2d(128, eps=1e-05, momentum=0.1, affine=True, track_running_stats=True)\n",
            "    (6): ReLU(inplace=True)\n",
            "    (7): MaxPool2d(kernel_size=2, stride=2, padding=0, dilation=1, ceil_mode=False)\n",
            "    (8): Conv2d(128, 256, kernel_size=(3, 3), stride=(1, 1), padding=(1, 1))\n",
            "    (9): BatchNorm2d(256, eps=1e-05, momentum=0.1, affine=True, track_running_stats=True)\n",
            "    (10): ReLU(inplace=True)\n",
            "    (11): Conv2d(256, 256, kernel_size=(3, 3), stride=(1, 1), padding=(1, 1))\n",
            "    (12): BatchNorm2d(256, eps=1e-05, momentum=0.1, affine=True, track_running_stats=True)\n",
            "    (13): ReLU(inplace=True)\n",
            "    (14): MaxPool2d(kernel_size=2, stride=2, padding=0, dilation=1, ceil_mode=False)\n",
            "    (15): Conv2d(256, 512, kernel_size=(3, 3), stride=(1, 1), padding=(1, 1))\n",
            "    (16): BatchNorm2d(512, eps=1e-05, momentum=0.1, affine=True, track_running_stats=True)\n",
            "    (17): ReLU(inplace=True)\n",
            "    (18): Conv2d(512, 512, kernel_size=(3, 3), stride=(1, 1), padding=(1, 1))\n",
            "    (19): BatchNorm2d(512, eps=1e-05, momentum=0.1, affine=True, track_running_stats=True)\n",
            "    (20): ReLU(inplace=True)\n",
            "    (21): MaxPool2d(kernel_size=2, stride=2, padding=0, dilation=1, ceil_mode=False)\n",
            "    (22): Conv2d(512, 512, kernel_size=(3, 3), stride=(1, 1), padding=(1, 1))\n",
            "    (23): BatchNorm2d(512, eps=1e-05, momentum=0.1, affine=True, track_running_stats=True)\n",
            "    (24): ReLU(inplace=True)\n",
            "    (25): Conv2d(512, 512, kernel_size=(3, 3), stride=(1, 1), padding=(1, 1))\n",
            "    (26): BatchNorm2d(512, eps=1e-05, momentum=0.1, affine=True, track_running_stats=True)\n",
            "    (27): ReLU(inplace=True)\n",
            "    (28): MaxPool2d(kernel_size=2, stride=2, padding=0, dilation=1, ceil_mode=False)\n",
            "  )\n",
            "  (avgpool): AdaptiveAvgPool2d(output_size=(1, 1))\n",
            "  (fc): Linear(in_features=512, out_features=10, bias=True)\n",
            ")\n"
          ]
        }
      ],
      "source": [
        "# model creation test\n",
        "test_model = create_model().to(DEVICE)\n",
        "print(test_model)"
      ]
    },
    {
      "cell_type": "code",
      "execution_count": 20,
      "metadata": {},
      "outputs": [
        {
          "name": "stdout",
          "output_type": "stream",
          "text": [
            "9231114\n"
          ]
        }
      ],
      "source": [
        "def count_model_params(\n",
        "    model: torch.nn.Module,\n",
        ") -> int:\n",
        "    \"\"\"Count model's parameters\"\"\"\n",
        "    return sum(p.numel() for p in model.parameters() if p.requires_grad)\n",
        "\n",
        "params_nums = count_model_params(test_model)\n",
        "print(params_nums)"
      ]
    },
    {
      "cell_type": "markdown",
      "metadata": {
        "id": "2tyXpo-wHcwX"
      },
      "source": [
        "### Original 모델 MACs 확인"
      ]
    },
    {
      "cell_type": "code",
      "execution_count": 21,
      "metadata": {
        "colab": {
          "base_uri": "https://localhost:8080/"
        },
        "id": "ssiiVdgKsnoU",
        "outputId": "6fa2bd96-2b32-4c6d-c3eb-6ee4dd99923d"
      },
      "outputs": [
        {
          "name": "stdout",
          "output_type": "stream",
          "text": [
            "Warning: module MyModel is treated as a zero-op.\n",
            "MyModel(\n",
            "  9.231 M, 100.000% Params, 0.154 GMac, 100.000% MACs, \n",
            "  (features): Sequential(\n",
            "    9.226 M, 99.944% Params, 0.153 GMac, 99.996% MACs, \n",
            "    (0): Conv2d(0.002 M, 0.019% Params, 0.002 GMac, 1.195% MACs, 3, 64, kernel_size=(3, 3), stride=(1, 1), padding=(1, 1))\n",
            "    (1): BatchNorm2d(0.0 M, 0.001% Params, 0.0 GMac, 0.085% MACs, 64, eps=1e-05, momentum=0.1, affine=True, track_running_stats=True)\n",
            "    (2): ReLU(0.0 M, 0.000% Params, 0.0 GMac, 0.043% MACs, inplace=True)\n",
            "    (3): MaxPool2d(0.0 M, 0.000% Params, 0.0 GMac, 0.043% MACs, kernel_size=2, stride=2, padding=0, dilation=1, ceil_mode=False)\n",
            "    (4): Conv2d(0.074 M, 0.800% Params, 0.019 GMac, 12.317% MACs, 64, 128, kernel_size=(3, 3), stride=(1, 1), padding=(1, 1))\n",
            "    (5): BatchNorm2d(0.0 M, 0.003% Params, 0.0 GMac, 0.043% MACs, 128, eps=1e-05, momentum=0.1, affine=True, track_running_stats=True)\n",
            "    (6): ReLU(0.0 M, 0.000% Params, 0.0 GMac, 0.021% MACs, inplace=True)\n",
            "    (7): MaxPool2d(0.0 M, 0.000% Params, 0.0 GMac, 0.021% MACs, kernel_size=2, stride=2, padding=0, dilation=1, ceil_mode=False)\n",
            "    (8): Conv2d(0.295 M, 3.198% Params, 0.019 GMac, 12.307% MACs, 128, 256, kernel_size=(3, 3), stride=(1, 1), padding=(1, 1))\n",
            "    (9): BatchNorm2d(0.001 M, 0.006% Params, 0.0 GMac, 0.021% MACs, 256, eps=1e-05, momentum=0.1, affine=True, track_running_stats=True)\n",
            "    (10): ReLU(0.0 M, 0.000% Params, 0.0 GMac, 0.011% MACs, inplace=True)\n",
            "    (11): Conv2d(0.59 M, 6.392% Params, 0.038 GMac, 24.602% MACs, 256, 256, kernel_size=(3, 3), stride=(1, 1), padding=(1, 1))\n",
            "    (12): BatchNorm2d(0.001 M, 0.006% Params, 0.0 GMac, 0.021% MACs, 256, eps=1e-05, momentum=0.1, affine=True, track_running_stats=True)\n",
            "    (13): ReLU(0.0 M, 0.000% Params, 0.0 GMac, 0.011% MACs, inplace=True)\n",
            "    (14): MaxPool2d(0.0 M, 0.000% Params, 0.0 GMac, 0.011% MACs, kernel_size=2, stride=2, padding=0, dilation=1, ceil_mode=False)\n",
            "    (15): Conv2d(1.18 M, 12.785% Params, 0.019 GMac, 12.301% MACs, 256, 512, kernel_size=(3, 3), stride=(1, 1), padding=(1, 1))\n",
            "    (16): BatchNorm2d(0.001 M, 0.011% Params, 0.0 GMac, 0.011% MACs, 512, eps=1e-05, momentum=0.1, affine=True, track_running_stats=True)\n",
            "    (17): ReLU(0.0 M, 0.000% Params, 0.0 GMac, 0.005% MACs, inplace=True)\n",
            "    (18): Conv2d(2.36 M, 25.564% Params, 0.038 GMac, 24.597% MACs, 512, 512, kernel_size=(3, 3), stride=(1, 1), padding=(1, 1))\n",
            "    (19): BatchNorm2d(0.001 M, 0.011% Params, 0.0 GMac, 0.011% MACs, 512, eps=1e-05, momentum=0.1, affine=True, track_running_stats=True)\n",
            "    (20): ReLU(0.0 M, 0.000% Params, 0.0 GMac, 0.005% MACs, inplace=True)\n",
            "    (21): MaxPool2d(0.0 M, 0.000% Params, 0.0 GMac, 0.005% MACs, kernel_size=2, stride=2, padding=0, dilation=1, ceil_mode=False)\n",
            "    (22): Conv2d(2.36 M, 25.564% Params, 0.009 GMac, 6.149% MACs, 512, 512, kernel_size=(3, 3), stride=(1, 1), padding=(1, 1))\n",
            "    (23): BatchNorm2d(0.001 M, 0.011% Params, 0.0 GMac, 0.003% MACs, 512, eps=1e-05, momentum=0.1, affine=True, track_running_stats=True)\n",
            "    (24): ReLU(0.0 M, 0.000% Params, 0.0 GMac, 0.001% MACs, inplace=True)\n",
            "    (25): Conv2d(2.36 M, 25.564% Params, 0.009 GMac, 6.149% MACs, 512, 512, kernel_size=(3, 3), stride=(1, 1), padding=(1, 1))\n",
            "    (26): BatchNorm2d(0.001 M, 0.011% Params, 0.0 GMac, 0.003% MACs, 512, eps=1e-05, momentum=0.1, affine=True, track_running_stats=True)\n",
            "    (27): ReLU(0.0 M, 0.000% Params, 0.0 GMac, 0.001% MACs, inplace=True)\n",
            "    (28): MaxPool2d(0.0 M, 0.000% Params, 0.0 GMac, 0.001% MACs, kernel_size=2, stride=2, padding=0, dilation=1, ceil_mode=False)\n",
            "  )\n",
            "  (avgpool): AdaptiveAvgPool2d(0.0 M, 0.000% Params, 0.0 GMac, 0.000% MACs, output_size=(1, 1))\n",
            "  (fc): Linear(0.005 M, 0.056% Params, 0.0 GMac, 0.003% MACs, in_features=512, out_features=10, bias=True)\n",
            ")\n",
            "original_model: 0.15 GMac\n"
          ]
        }
      ],
      "source": [
        "macs, params = get_macs(test_model)\n",
        "print(f'original_model: {macs}')"
      ]
    },
    {
      "cell_type": "markdown",
      "metadata": {
        "id": "meww4W3mHRFu"
      },
      "source": [
        "### Fine tune 및 Original 모델 Acc 확인"
      ]
    },
    {
      "cell_type": "code",
      "execution_count": null,
      "metadata": {
        "colab": {
          "base_uri": "https://localhost:8080/"
        },
        "id": "3mzGWnKnxwfC",
        "outputId": "acf40229-ff7c-48ad-fedc-d2521fa74e55"
      },
      "outputs": [
        {
          "name": "stdout",
          "output_type": "stream",
          "text": [
            "Fine tune orignal model\n",
            "epoch : 1 loss: 0.687\n",
            "Test acc: 79.76%\n",
            "epoch : 2 loss: 0.404\n",
            "Test acc: 84.28%\n",
            "epoch : 3 loss: 0.263\n",
            "Test acc: 84.32%\n",
            "epoch : 4 loss: 0.180\n",
            "Test acc: 84.19%\n",
            "epoch : 5 loss: 0.131\n",
            "Test acc: 84.91%\n",
            "epoch : 6 loss: 0.102\n",
            "Test acc: 84.98%\n",
            "epoch : 7 loss: 0.080\n",
            "Test acc: 85.66%\n",
            "epoch : 8 loss: 0.067\n",
            "Test acc: 85.48%\n",
            "epoch : 9 loss: 0.064\n",
            "Test acc: 85.41%\n",
            "epoch : 10 loss: 0.056\n",
            "Test acc: 84.45%\n",
            "Finished Training\n"
          ]
        }
      ],
      "source": [
        "print('Fine tune orignal model')\n",
        "train(test_model, num_epochs = 10)"
      ]
    },
    {
      "cell_type": "markdown",
      "metadata": {
        "id": "HHMmhn4daOVl"
      },
      "source": [
        "## 2. Conv에 rank parameter 추가(register_buffer)"
      ]
    },
    {
      "cell_type": "code",
      "execution_count": 22,
      "metadata": {
        "id": "5BP8889LXylG"
      },
      "outputs": [],
      "source": [
        "for name, param in test_model.named_modules():\n",
        "    if isinstance(param, nn.Conv2d):\n",
        "        param.register_buffer('rank', torch.Tensor([0.5, 0.5])) # rank in, out                                               "
      ]
    },
    {
      "cell_type": "markdown",
      "metadata": {
        "id": "CjEJz9PYaHgy"
      },
      "source": [
        "## 3. Decomposition 수행"
      ]
    },
    {
      "cell_type": "markdown",
      "metadata": {
        "id": "Hpzb8G-7dduI"
      },
      "source": [
        "### 3-1. Tucker decomposition 함수"
      ]
    },
    {
      "cell_type": "code",
      "execution_count": 24,
      "metadata": {
        "id": "qEvPh951Ybfc"
      },
      "outputs": [],
      "source": [
        "import copy\n",
        "import tensorly as tl\n",
        "from tensorly.decomposition import parafac, partial_tucker\n",
        "from typing import List\n",
        "# switch to the PyTorch backend\n",
        "tl.set_backend('pytorch')\n",
        "\n",
        "def tucker_decomposition_conv_layer(\n",
        "      layer: nn.Module,\n",
        "      normed_rank: List[int] = [0.5, 0.5],\n",
        "  ) -> nn.Module:\n",
        "      \"\"\"Gets a conv layer,\n",
        "      returns a nn.Sequential object with the Tucker decomposition.\n",
        "      The ranks are estimated with a Python implementation of VBMF\n",
        "      https://github.com/CasvandenBogaard/VBMF\n",
        "      \"\"\"\n",
        "      if hasattr(layer, \"rank\"):\n",
        "          normed_rank = getattr(layer, \"rank\")\n",
        "      rank = [int(r * layer.weight.shape[i]) for i, r in enumerate(normed_rank)] # output channel * normalized rank\n",
        "      rank = [max(r, 2) for r in rank]\n",
        "\n",
        "      core, [last, first] = partial_tucker(\n",
        "          layer.weight.data,\n",
        "          modes=[0, 1],\n",
        "          n_iter_max=2000000,\n",
        "          rank=rank,\n",
        "          init=\"svd\",\n",
        "      )\n",
        "\n",
        "      # A pointwise convolution that reduces the channels from S to R3\n",
        "      first_layer = nn.Conv2d(\n",
        "          in_channels=first.shape[0],\n",
        "          out_channels=first.shape[1],\n",
        "          kernel_size=1,\n",
        "          stride=1,\n",
        "          padding=0,\n",
        "          dilation=layer.dilation,\n",
        "          bias=False,\n",
        "      )\n",
        "\n",
        "      # A regular 2D convolution layer with R3 input channels\n",
        "      # and R3 output channels\n",
        "      core_layer = nn.Conv2d(\n",
        "          in_channels=core.shape[1],\n",
        "          out_channels=core.shape[0],\n",
        "          kernel_size=layer.kernel_size,\n",
        "          stride=layer.stride,\n",
        "          padding=layer.padding,\n",
        "          dilation=layer.dilation,\n",
        "          bias=False,\n",
        "      )\n",
        "\n",
        "      # A pointwise convolution that increases the channels from R4 to T\n",
        "      last_layer = nn.Conv2d(\n",
        "          in_channels=last.shape[1],\n",
        "          out_channels=last.shape[0],\n",
        "          kernel_size=1,\n",
        "          stride=1,\n",
        "          padding=0,\n",
        "          dilation=layer.dilation,\n",
        "          bias=True,\n",
        "      )\n",
        "\n",
        "      if hasattr(layer, \"bias\") and layer.bias is not None:\n",
        "          last_layer.bias.data = layer.bias.data\n",
        "\n",
        "      first_layer.weight.data = (\n",
        "          torch.transpose(first, 1, 0).unsqueeze(-1).unsqueeze(-1)\n",
        "      )\n",
        "      last_layer.weight.data = last.unsqueeze(-1).unsqueeze(-1)\n",
        "      core_layer.weight.data = core\n",
        "\n",
        "      new_layers = [first_layer, core_layer, last_layer]\n",
        "      return nn.Sequential(*new_layers)\n"
      ]
    },
    {
      "cell_type": "markdown",
      "metadata": {
        "id": "Wai8bULJdkCX"
      },
      "source": [
        "### 3-2. Decomposition 수행"
      ]
    },
    {
      "cell_type": "code",
      "execution_count": 25,
      "metadata": {
        "id": "2qQWeGSnbnLx"
      },
      "outputs": [],
      "source": [
        "def decompose(module: nn.Module):\n",
        "  \"\"\"Iterate model layers and decompose\"\"\"\n",
        "  model_layers = list(module.children())\n",
        "  if not model_layers:\n",
        "      return None\n",
        "  for i in range(len(model_layers)):\n",
        "      if type(model_layers[i]) == nn.Sequential:\n",
        "          decomposed_module = decompose(model_layers[i])\n",
        "          if decomposed_module:\n",
        "              model_layers[i] = decomposed_module\n",
        "      if type(model_layers[i]) == nn.Conv2d:\n",
        "          model_layers[i] = tucker_decomposition_conv_layer(model_layers[i])\n",
        "  return nn.Sequential(*model_layers)"
      ]
    },
    {
      "cell_type": "code",
      "execution_count": 26,
      "metadata": {
        "colab": {
          "base_uri": "https://localhost:8080/"
        },
        "id": "zGNbAloNu8ro",
        "outputId": "4fd725d5-6ed5-4860-d38b-b81eb7e33683"
      },
      "outputs": [],
      "source": [
        "test_model.features = decompose(test_model.features)\n",
        "test_model = test_model.to(DEVICE)"
      ]
    },
    {
      "cell_type": "code",
      "execution_count": 27,
      "metadata": {},
      "outputs": [
        {
          "name": "stdout",
          "output_type": "stream",
          "text": [
            "3387024\n"
          ]
        }
      ],
      "source": [
        "params_nums = count_model_params(test_model)\n",
        "print(params_nums)"
      ]
    },
    {
      "cell_type": "markdown",
      "metadata": {
        "id": "5OPPl7ixHqt2"
      },
      "source": [
        "### Decomposed 모델 MACs 확인"
      ]
    },
    {
      "cell_type": "code",
      "execution_count": null,
      "metadata": {
        "colab": {
          "base_uri": "https://localhost:8080/"
        },
        "id": "XMguK9TcdxxK",
        "outputId": "5ee3b7ef-8188-4106-dc79-6eacdead6285"
      },
      "outputs": [
        {
          "name": "stdout",
          "output_type": "stream",
          "text": [
            "Warning: variables __flops__ or __params__ are already defined for the moduleBatchNorm2d ptflops can affect your code!\n",
            "Warning: variables __flops__ or __params__ are already defined for the moduleReLU ptflops can affect your code!\n",
            "Warning: variables __flops__ or __params__ are already defined for the moduleMaxPool2d ptflops can affect your code!\n",
            "Warning: variables __flops__ or __params__ are already defined for the moduleBatchNorm2d ptflops can affect your code!\n",
            "Warning: variables __flops__ or __params__ are already defined for the moduleReLU ptflops can affect your code!\n",
            "Warning: variables __flops__ or __params__ are already defined for the moduleMaxPool2d ptflops can affect your code!\n",
            "Warning: variables __flops__ or __params__ are already defined for the moduleBatchNorm2d ptflops can affect your code!\n",
            "Warning: variables __flops__ or __params__ are already defined for the moduleReLU ptflops can affect your code!\n",
            "Warning: variables __flops__ or __params__ are already defined for the moduleBatchNorm2d ptflops can affect your code!\n",
            "Warning: variables __flops__ or __params__ are already defined for the moduleReLU ptflops can affect your code!\n",
            "Warning: variables __flops__ or __params__ are already defined for the moduleMaxPool2d ptflops can affect your code!\n",
            "Warning: variables __flops__ or __params__ are already defined for the moduleBatchNorm2d ptflops can affect your code!\n",
            "Warning: variables __flops__ or __params__ are already defined for the moduleReLU ptflops can affect your code!\n",
            "Warning: variables __flops__ or __params__ are already defined for the moduleBatchNorm2d ptflops can affect your code!\n",
            "Warning: variables __flops__ or __params__ are already defined for the moduleReLU ptflops can affect your code!\n",
            "Warning: variables __flops__ or __params__ are already defined for the moduleMaxPool2d ptflops can affect your code!\n",
            "Warning: variables __flops__ or __params__ are already defined for the moduleBatchNorm2d ptflops can affect your code!\n",
            "Warning: variables __flops__ or __params__ are already defined for the moduleReLU ptflops can affect your code!\n",
            "Warning: variables __flops__ or __params__ are already defined for the moduleBatchNorm2d ptflops can affect your code!\n",
            "Warning: variables __flops__ or __params__ are already defined for the moduleReLU ptflops can affect your code!\n",
            "Warning: variables __flops__ or __params__ are already defined for the moduleMaxPool2d ptflops can affect your code!\n",
            "Warning: variables __flops__ or __params__ are already defined for the moduleAdaptiveAvgPool2d ptflops can affect your code!\n",
            "Warning: variables __flops__ or __params__ are already defined for the moduleLinear ptflops can affect your code!\n",
            "Warning: module MyModel is treated as a zero-op.\n",
            "MyModel(\n",
            "  3.387 M, 100.000% Params, 0.06 GMac, 100.000% MACs, \n",
            "  (features): Sequential(\n",
            "    3.382 M, 99.849% Params, 0.06 GMac, 99.991% MACs, \n",
            "    (0): Sequential(\n",
            "      0.003 M, 0.080% Params, 0.003 GMac, 4.634% MACs, \n",
            "      (0): Conv2d(0.0 M, 0.000% Params, 0.0 GMac, 0.010% MACs, 3, 2, kernel_size=(1, 1), stride=(1, 1), bias=False)\n",
            "      (1): Conv2d(0.001 M, 0.017% Params, 0.001 GMac, 0.991% MACs, 2, 32, kernel_size=(3, 3), stride=(1, 1), padding=(1, 1), bias=False)\n",
            "      (2): Conv2d(0.002 M, 0.062% Params, 0.002 GMac, 3.633% MACs, 32, 64, kernel_size=(1, 1), stride=(1, 1))\n",
            "    )\n",
            "    (1): BatchNorm2d(0.0 M, 0.004% Params, 0.0 GMac, 0.220% MACs, 64, eps=1e-05, momentum=0.1, affine=True, track_running_stats=True)\n",
            "    (2): ReLU(0.0 M, 0.000% Params, 0.0 GMac, 0.110% MACs, inplace=True)\n",
            "    (3): MaxPool2d(0.0 M, 0.000% Params, 0.0 GMac, 0.110% MACs, kernel_size=2, stride=2, padding=0, dilation=1, ceil_mode=False)\n",
            "    (4): Sequential(\n",
            "      0.029 M, 0.850% Params, 0.007 GMac, 12.385% MACs, \n",
            "      (0): Conv2d(0.002 M, 0.060% Params, 0.001 GMac, 0.881% MACs, 64, 32, kernel_size=(1, 1), stride=(1, 1), bias=False)\n",
            "      (1): Conv2d(0.018 M, 0.544% Params, 0.005 GMac, 7.927% MACs, 32, 64, kernel_size=(3, 3), stride=(1, 1), padding=(1, 1), bias=False)\n",
            "      (2): Conv2d(0.008 M, 0.246% Params, 0.002 GMac, 3.578% MACs, 64, 128, kernel_size=(1, 1), stride=(1, 1))\n",
            "    )\n",
            "    (5): BatchNorm2d(0.0 M, 0.008% Params, 0.0 GMac, 0.110% MACs, 128, eps=1e-05, momentum=0.1, affine=True, track_running_stats=True)\n",
            "    (6): ReLU(0.0 M, 0.000% Params, 0.0 GMac, 0.055% MACs, inplace=True)\n",
            "    (7): MaxPool2d(0.0 M, 0.000% Params, 0.0 GMac, 0.055% MACs, kernel_size=2, stride=2, padding=0, dilation=1, ceil_mode=False)\n",
            "    (8): Sequential(\n",
            "      0.115 M, 3.394% Params, 0.007 GMac, 12.358% MACs, \n",
            "      (0): Conv2d(0.008 M, 0.242% Params, 0.001 GMac, 0.881% MACs, 128, 64, kernel_size=(1, 1), stride=(1, 1), bias=False)\n",
            "      (1): Conv2d(0.074 M, 2.177% Params, 0.005 GMac, 7.927% MACs, 64, 128, kernel_size=(3, 3), stride=(1, 1), padding=(1, 1), bias=False)\n",
            "      (2): Conv2d(0.033 M, 0.975% Params, 0.002 GMac, 3.550% MACs, 128, 256, kernel_size=(1, 1), stride=(1, 1))\n",
            "    )\n",
            "    (9): BatchNorm2d(0.001 M, 0.015% Params, 0.0 GMac, 0.055% MACs, 256, eps=1e-05, momentum=0.1, affine=True, track_running_stats=True)\n",
            "    (10): ReLU(0.0 M, 0.000% Params, 0.0 GMac, 0.028% MACs, inplace=True)\n",
            "    (11): Sequential(\n",
            "      0.213 M, 6.296% Params, 0.014 GMac, 22.927% MACs, \n",
            "      (0): Conv2d(0.033 M, 0.967% Params, 0.002 GMac, 3.523% MACs, 256, 128, kernel_size=(1, 1), stride=(1, 1), bias=False)\n",
            "      (1): Conv2d(0.147 M, 4.354% Params, 0.009 GMac, 15.853% MACs, 128, 128, kernel_size=(3, 3), stride=(1, 1), padding=(1, 1), bias=False)\n",
            "      (2): Conv2d(0.033 M, 0.975% Params, 0.002 GMac, 3.550% MACs, 128, 256, kernel_size=(1, 1), stride=(1, 1))\n",
            "    )\n",
            "    (12): BatchNorm2d(0.001 M, 0.015% Params, 0.0 GMac, 0.055% MACs, 256, eps=1e-05, momentum=0.1, affine=True, track_running_stats=True)\n",
            "    (13): ReLU(0.0 M, 0.000% Params, 0.0 GMac, 0.028% MACs, inplace=True)\n",
            "    (14): MaxPool2d(0.0 M, 0.000% Params, 0.0 GMac, 0.028% MACs, kernel_size=2, stride=2, padding=0, dilation=1, ceil_mode=False)\n",
            "    (15): Sequential(\n",
            "      0.459 M, 13.560% Params, 0.007 GMac, 12.344% MACs, \n",
            "      (0): Conv2d(0.033 M, 0.967% Params, 0.001 GMac, 0.881% MACs, 256, 128, kernel_size=(1, 1), stride=(1, 1), bias=False)\n",
            "      (1): Conv2d(0.295 M, 8.707% Params, 0.005 GMac, 7.927% MACs, 128, 256, kernel_size=(3, 3), stride=(1, 1), padding=(1, 1), bias=False)\n",
            "      (2): Conv2d(0.132 M, 3.885% Params, 0.002 GMac, 3.537% MACs, 256, 512, kernel_size=(1, 1), stride=(1, 1))\n",
            "    )\n",
            "    (16): BatchNorm2d(0.001 M, 0.030% Params, 0.0 GMac, 0.028% MACs, 512, eps=1e-05, momentum=0.1, affine=True, track_running_stats=True)\n",
            "    (17): ReLU(0.0 M, 0.000% Params, 0.0 GMac, 0.014% MACs, inplace=True)\n",
            "    (18): Sequential(\n",
            "      0.852 M, 25.169% Params, 0.014 GMac, 22.913% MACs, \n",
            "      (0): Conv2d(0.131 M, 3.870% Params, 0.002 GMac, 3.523% MACs, 512, 256, kernel_size=(1, 1), stride=(1, 1), bias=False)\n",
            "      (1): Conv2d(0.59 M, 17.414% Params, 0.009 GMac, 15.853% MACs, 256, 256, kernel_size=(3, 3), stride=(1, 1), padding=(1, 1), bias=False)\n",
            "      (2): Conv2d(0.132 M, 3.885% Params, 0.002 GMac, 3.537% MACs, 256, 512, kernel_size=(1, 1), stride=(1, 1))\n",
            "    )\n",
            "    (19): BatchNorm2d(0.001 M, 0.030% Params, 0.0 GMac, 0.028% MACs, 512, eps=1e-05, momentum=0.1, affine=True, track_running_stats=True)\n",
            "    (20): ReLU(0.0 M, 0.000% Params, 0.0 GMac, 0.014% MACs, inplace=True)\n",
            "    (21): MaxPool2d(0.0 M, 0.000% Params, 0.0 GMac, 0.014% MACs, kernel_size=2, stride=2, padding=0, dilation=1, ceil_mode=False)\n",
            "    (22): Sequential(\n",
            "      0.852 M, 25.169% Params, 0.003 GMac, 5.728% MACs, \n",
            "      (0): Conv2d(0.131 M, 3.870% Params, 0.001 GMac, 0.881% MACs, 512, 256, kernel_size=(1, 1), stride=(1, 1), bias=False)\n",
            "      (1): Conv2d(0.59 M, 17.414% Params, 0.002 GMac, 3.963% MACs, 256, 256, kernel_size=(3, 3), stride=(1, 1), padding=(1, 1), bias=False)\n",
            "      (2): Conv2d(0.132 M, 3.885% Params, 0.001 GMac, 0.884% MACs, 256, 512, kernel_size=(1, 1), stride=(1, 1))\n",
            "    )\n",
            "    (23): BatchNorm2d(0.001 M, 0.030% Params, 0.0 GMac, 0.007% MACs, 512, eps=1e-05, momentum=0.1, affine=True, track_running_stats=True)\n",
            "    (24): ReLU(0.0 M, 0.000% Params, 0.0 GMac, 0.003% MACs, inplace=True)\n",
            "    (25): Sequential(\n",
            "      0.852 M, 25.169% Params, 0.003 GMac, 5.728% MACs, \n",
            "      (0): Conv2d(0.131 M, 3.870% Params, 0.001 GMac, 0.881% MACs, 512, 256, kernel_size=(1, 1), stride=(1, 1), bias=False)\n",
            "      (1): Conv2d(0.59 M, 17.414% Params, 0.002 GMac, 3.963% MACs, 256, 256, kernel_size=(3, 3), stride=(1, 1), padding=(1, 1), bias=False)\n",
            "      (2): Conv2d(0.132 M, 3.885% Params, 0.001 GMac, 0.884% MACs, 256, 512, kernel_size=(1, 1), stride=(1, 1))\n",
            "    )\n",
            "    (26): BatchNorm2d(0.001 M, 0.030% Params, 0.0 GMac, 0.007% MACs, 512, eps=1e-05, momentum=0.1, affine=True, track_running_stats=True)\n",
            "    (27): ReLU(0.0 M, 0.000% Params, 0.0 GMac, 0.003% MACs, inplace=True)\n",
            "    (28): MaxPool2d(0.0 M, 0.000% Params, 0.0 GMac, 0.003% MACs, kernel_size=2, stride=2, padding=0, dilation=1, ceil_mode=False)\n",
            "  )\n",
            "  (avgpool): AdaptiveAvgPool2d(0.0 M, 0.000% Params, 0.0 GMac, 0.001% MACs, output_size=(1, 1))\n",
            "  (fc): Linear(0.005 M, 0.151% Params, 0.0 GMac, 0.009% MACs, in_features=512, out_features=10, bias=True)\n",
            ")\n",
            "decomposed_model: 0.06 GMac\n"
          ]
        }
      ],
      "source": [
        "macs, params = get_macs(test_model)\n",
        "print(f'decomposed_model: {macs}')"
      ]
    },
    {
      "cell_type": "markdown",
      "metadata": {
        "id": "XxSuVbsrHw5B"
      },
      "source": [
        "### Fine tune 및 decomposed 모델 Acc 확인"
      ]
    },
    {
      "cell_type": "code",
      "execution_count": null,
      "metadata": {
        "colab": {
          "base_uri": "https://localhost:8080/"
        },
        "id": "Y_av-s-1s-UC",
        "outputId": "f0e27630-ed3d-4946-df40-476fa3ed4894"
      },
      "outputs": [
        {
          "name": "stdout",
          "output_type": "stream",
          "text": [
            "Fine tune decomposed model\n",
            "epoch : 1 loss: 0.360\n",
            "Test acc: 81.87%\n",
            "epoch : 2 loss: 0.270\n",
            "Test acc: 81.75%\n",
            "epoch : 3 loss: 0.225\n",
            "Test acc: 82.76%\n",
            "epoch : 4 loss: 0.194\n",
            "Test acc: 81.47%\n",
            "epoch : 5 loss: 0.168\n",
            "Test acc: 83.38%\n",
            "epoch : 6 loss: 0.153\n",
            "Test acc: 82.21%\n",
            "epoch : 7 loss: 0.141\n",
            "Test acc: 82.24%\n",
            "epoch : 8 loss: 0.122\n",
            "Test acc: 84.49%\n",
            "epoch : 9 loss: 0.118\n",
            "Test acc: 83.12%\n",
            "epoch : 10 loss: 0.108\n",
            "Test acc: 83.40%\n",
            "Finished Training\n"
          ]
        }
      ],
      "source": [
        "print('Fine tune decomposed model')\n",
        "train(test_model, num_epochs = 10)"
      ]
    },
    {
      "cell_type": "code",
      "execution_count": null,
      "metadata": {
        "id": "OOXonk-cFeFz"
      },
      "outputs": [],
      "source": []
    }
  ],
  "metadata": {
    "accelerator": "GPU",
    "colab": {
      "collapsed_sections": [],
      "name": "0601_TD_search.ipynb",
      "provenance": []
    },
    "kernelspec": {
      "display_name": "Python 3",
      "name": "python3"
    },
    "language_info": {
      "codemirror_mode": {
        "name": "ipython",
        "version": 3
      },
      "file_extension": ".py",
      "mimetype": "text/x-python",
      "name": "python",
      "nbconvert_exporter": "python",
      "pygments_lexer": "ipython3",
      "version": "3.8.5"
    },
    "widgets": {
      "application/vnd.jupyter.widget-state+json": {
        "003a6279221d40f281855720596294f9": {
          "model_module": "@jupyter-widgets/controls",
          "model_module_version": "1.5.0",
          "model_name": "HTMLModel",
          "state": {
            "_dom_classes": [],
            "_model_module": "@jupyter-widgets/controls",
            "_model_module_version": "1.5.0",
            "_model_name": "HTMLModel",
            "_view_count": null,
            "_view_module": "@jupyter-widgets/controls",
            "_view_module_version": "1.5.0",
            "_view_name": "HTMLView",
            "description": "",
            "description_tooltip": null,
            "layout": "IPY_MODEL_b2dc7c4b5d13468499ea05eec48c6934",
            "placeholder": "​",
            "style": "IPY_MODEL_5f5ccfcae1a64366b1c9ebf3dd307e30",
            "value": " 507M/507M [00:27&lt;00:00, 15.0MB/s]"
          }
        },
        "094030b083644438af582cff36ca1aaa": {
          "model_module": "@jupyter-widgets/base",
          "model_module_version": "1.2.0",
          "model_name": "LayoutModel",
          "state": {
            "_model_module": "@jupyter-widgets/base",
            "_model_module_version": "1.2.0",
            "_model_name": "LayoutModel",
            "_view_count": null,
            "_view_module": "@jupyter-widgets/base",
            "_view_module_version": "1.2.0",
            "_view_name": "LayoutView",
            "align_content": null,
            "align_items": null,
            "align_self": null,
            "border": null,
            "bottom": null,
            "display": null,
            "flex": null,
            "flex_flow": null,
            "grid_area": null,
            "grid_auto_columns": null,
            "grid_auto_flow": null,
            "grid_auto_rows": null,
            "grid_column": null,
            "grid_gap": null,
            "grid_row": null,
            "grid_template_areas": null,
            "grid_template_columns": null,
            "grid_template_rows": null,
            "height": null,
            "justify_content": null,
            "justify_items": null,
            "left": null,
            "margin": null,
            "max_height": null,
            "max_width": null,
            "min_height": null,
            "min_width": null,
            "object_fit": null,
            "object_position": null,
            "order": null,
            "overflow": null,
            "overflow_x": null,
            "overflow_y": null,
            "padding": null,
            "right": null,
            "top": null,
            "visibility": null,
            "width": null
          }
        },
        "15fe4566e0af4b02a7334ebb0e205ede": {
          "model_module": "@jupyter-widgets/base",
          "model_module_version": "1.2.0",
          "model_name": "LayoutModel",
          "state": {
            "_model_module": "@jupyter-widgets/base",
            "_model_module_version": "1.2.0",
            "_model_name": "LayoutModel",
            "_view_count": null,
            "_view_module": "@jupyter-widgets/base",
            "_view_module_version": "1.2.0",
            "_view_name": "LayoutView",
            "align_content": null,
            "align_items": null,
            "align_self": null,
            "border": null,
            "bottom": null,
            "display": null,
            "flex": null,
            "flex_flow": null,
            "grid_area": null,
            "grid_auto_columns": null,
            "grid_auto_flow": null,
            "grid_auto_rows": null,
            "grid_column": null,
            "grid_gap": null,
            "grid_row": null,
            "grid_template_areas": null,
            "grid_template_columns": null,
            "grid_template_rows": null,
            "height": null,
            "justify_content": null,
            "justify_items": null,
            "left": null,
            "margin": null,
            "max_height": null,
            "max_width": null,
            "min_height": null,
            "min_width": null,
            "object_fit": null,
            "object_position": null,
            "order": null,
            "overflow": null,
            "overflow_x": null,
            "overflow_y": null,
            "padding": null,
            "right": null,
            "top": null,
            "visibility": null,
            "width": null
          }
        },
        "1992a81c363a426c9f00c52b480a43c1": {
          "model_module": "@jupyter-widgets/base",
          "model_module_version": "1.2.0",
          "model_name": "LayoutModel",
          "state": {
            "_model_module": "@jupyter-widgets/base",
            "_model_module_version": "1.2.0",
            "_model_name": "LayoutModel",
            "_view_count": null,
            "_view_module": "@jupyter-widgets/base",
            "_view_module_version": "1.2.0",
            "_view_name": "LayoutView",
            "align_content": null,
            "align_items": null,
            "align_self": null,
            "border": null,
            "bottom": null,
            "display": null,
            "flex": null,
            "flex_flow": null,
            "grid_area": null,
            "grid_auto_columns": null,
            "grid_auto_flow": null,
            "grid_auto_rows": null,
            "grid_column": null,
            "grid_gap": null,
            "grid_row": null,
            "grid_template_areas": null,
            "grid_template_columns": null,
            "grid_template_rows": null,
            "height": null,
            "justify_content": null,
            "justify_items": null,
            "left": null,
            "margin": null,
            "max_height": null,
            "max_width": null,
            "min_height": null,
            "min_width": null,
            "object_fit": null,
            "object_position": null,
            "order": null,
            "overflow": null,
            "overflow_x": null,
            "overflow_y": null,
            "padding": null,
            "right": null,
            "top": null,
            "visibility": null,
            "width": null
          }
        },
        "1f203480263c4e378938b11a9441389a": {
          "model_module": "@jupyter-widgets/controls",
          "model_module_version": "1.5.0",
          "model_name": "HTMLModel",
          "state": {
            "_dom_classes": [],
            "_model_module": "@jupyter-widgets/controls",
            "_model_module_version": "1.5.0",
            "_model_name": "HTMLModel",
            "_view_count": null,
            "_view_module": "@jupyter-widgets/controls",
            "_view_module_version": "1.5.0",
            "_view_name": "HTMLView",
            "description": "",
            "description_tooltip": null,
            "layout": "IPY_MODEL_1992a81c363a426c9f00c52b480a43c1",
            "placeholder": "​",
            "style": "IPY_MODEL_d5dd95be29784a1a92d144c9d6f70277",
            "value": ""
          }
        },
        "47393cb112d34016aa10680f113e72bc": {
          "model_module": "@jupyter-widgets/controls",
          "model_module_version": "1.5.0",
          "model_name": "HTMLModel",
          "state": {
            "_dom_classes": [],
            "_model_module": "@jupyter-widgets/controls",
            "_model_module_version": "1.5.0",
            "_model_name": "HTMLModel",
            "_view_count": null,
            "_view_module": "@jupyter-widgets/controls",
            "_view_module_version": "1.5.0",
            "_view_name": "HTMLView",
            "description": "",
            "description_tooltip": null,
            "layout": "IPY_MODEL_f0cb2437356049f099293bfa80686139",
            "placeholder": "​",
            "style": "IPY_MODEL_d80622ce84c04d31b7a8310b0c47d931",
            "value": " 170499072/? [00:03&lt;00:00, 56082331.73it/s]"
          }
        },
        "48d3303dae86409695baea724b874024": {
          "model_module": "@jupyter-widgets/controls",
          "model_module_version": "1.5.0",
          "model_name": "ProgressStyleModel",
          "state": {
            "_model_module": "@jupyter-widgets/controls",
            "_model_module_version": "1.5.0",
            "_model_name": "ProgressStyleModel",
            "_view_count": null,
            "_view_module": "@jupyter-widgets/base",
            "_view_module_version": "1.2.0",
            "_view_name": "StyleView",
            "bar_color": null,
            "description_width": ""
          }
        },
        "4ac73a7934aa4a63894421d2e2944326": {
          "model_module": "@jupyter-widgets/controls",
          "model_module_version": "1.5.0",
          "model_name": "ProgressStyleModel",
          "state": {
            "_model_module": "@jupyter-widgets/controls",
            "_model_module_version": "1.5.0",
            "_model_name": "ProgressStyleModel",
            "_view_count": null,
            "_view_module": "@jupyter-widgets/base",
            "_view_module_version": "1.2.0",
            "_view_name": "StyleView",
            "bar_color": null,
            "description_width": ""
          }
        },
        "58f910c3bc874ed888e49375e222a59b": {
          "model_module": "@jupyter-widgets/controls",
          "model_module_version": "1.5.0",
          "model_name": "FloatProgressModel",
          "state": {
            "_dom_classes": [],
            "_model_module": "@jupyter-widgets/controls",
            "_model_module_version": "1.5.0",
            "_model_name": "FloatProgressModel",
            "_view_count": null,
            "_view_module": "@jupyter-widgets/controls",
            "_view_module_version": "1.5.0",
            "_view_name": "ProgressView",
            "bar_style": "success",
            "description": "",
            "description_tooltip": null,
            "layout": "IPY_MODEL_ec238bf16aea45f8b84e1d6bc6bdcc62",
            "max": 531503671,
            "min": 0,
            "orientation": "horizontal",
            "style": "IPY_MODEL_48d3303dae86409695baea724b874024",
            "value": 531503671
          }
        },
        "5f5ccfcae1a64366b1c9ebf3dd307e30": {
          "model_module": "@jupyter-widgets/controls",
          "model_module_version": "1.5.0",
          "model_name": "DescriptionStyleModel",
          "state": {
            "_model_module": "@jupyter-widgets/controls",
            "_model_module_version": "1.5.0",
            "_model_name": "DescriptionStyleModel",
            "_view_count": null,
            "_view_module": "@jupyter-widgets/base",
            "_view_module_version": "1.2.0",
            "_view_name": "StyleView",
            "description_width": ""
          }
        },
        "74e8341328234e0dabbb5ca8a14cb932": {
          "model_module": "@jupyter-widgets/base",
          "model_module_version": "1.2.0",
          "model_name": "LayoutModel",
          "state": {
            "_model_module": "@jupyter-widgets/base",
            "_model_module_version": "1.2.0",
            "_model_name": "LayoutModel",
            "_view_count": null,
            "_view_module": "@jupyter-widgets/base",
            "_view_module_version": "1.2.0",
            "_view_name": "LayoutView",
            "align_content": null,
            "align_items": null,
            "align_self": null,
            "border": null,
            "bottom": null,
            "display": null,
            "flex": null,
            "flex_flow": null,
            "grid_area": null,
            "grid_auto_columns": null,
            "grid_auto_flow": null,
            "grid_auto_rows": null,
            "grid_column": null,
            "grid_gap": null,
            "grid_row": null,
            "grid_template_areas": null,
            "grid_template_columns": null,
            "grid_template_rows": null,
            "height": null,
            "justify_content": null,
            "justify_items": null,
            "left": null,
            "margin": null,
            "max_height": null,
            "max_width": null,
            "min_height": null,
            "min_width": null,
            "object_fit": null,
            "object_position": null,
            "order": null,
            "overflow": null,
            "overflow_x": null,
            "overflow_y": null,
            "padding": null,
            "right": null,
            "top": null,
            "visibility": null,
            "width": null
          }
        },
        "7802f60ff63b47ac9746d8d1b960105b": {
          "model_module": "@jupyter-widgets/controls",
          "model_module_version": "1.5.0",
          "model_name": "FloatProgressModel",
          "state": {
            "_dom_classes": [],
            "_model_module": "@jupyter-widgets/controls",
            "_model_module_version": "1.5.0",
            "_model_name": "FloatProgressModel",
            "_view_count": null,
            "_view_module": "@jupyter-widgets/controls",
            "_view_module_version": "1.5.0",
            "_view_name": "ProgressView",
            "bar_style": "success",
            "description": "",
            "description_tooltip": null,
            "layout": "IPY_MODEL_f31d81991d544872b4c5cb3f3b3dab82",
            "max": 170498071,
            "min": 0,
            "orientation": "horizontal",
            "style": "IPY_MODEL_4ac73a7934aa4a63894421d2e2944326",
            "value": 170498071
          }
        },
        "7a496bc507a3403c8826363c4d360ad2": {
          "model_module": "@jupyter-widgets/controls",
          "model_module_version": "1.5.0",
          "model_name": "HBoxModel",
          "state": {
            "_dom_classes": [],
            "_model_module": "@jupyter-widgets/controls",
            "_model_module_version": "1.5.0",
            "_model_name": "HBoxModel",
            "_view_count": null,
            "_view_module": "@jupyter-widgets/controls",
            "_view_module_version": "1.5.0",
            "_view_name": "HBoxView",
            "box_style": "",
            "children": [
              "IPY_MODEL_b812f2e1a25f4cca8e80262461b6ecc6",
              "IPY_MODEL_58f910c3bc874ed888e49375e222a59b",
              "IPY_MODEL_003a6279221d40f281855720596294f9"
            ],
            "layout": "IPY_MODEL_094030b083644438af582cff36ca1aaa"
          }
        },
        "b2dc7c4b5d13468499ea05eec48c6934": {
          "model_module": "@jupyter-widgets/base",
          "model_module_version": "1.2.0",
          "model_name": "LayoutModel",
          "state": {
            "_model_module": "@jupyter-widgets/base",
            "_model_module_version": "1.2.0",
            "_model_name": "LayoutModel",
            "_view_count": null,
            "_view_module": "@jupyter-widgets/base",
            "_view_module_version": "1.2.0",
            "_view_name": "LayoutView",
            "align_content": null,
            "align_items": null,
            "align_self": null,
            "border": null,
            "bottom": null,
            "display": null,
            "flex": null,
            "flex_flow": null,
            "grid_area": null,
            "grid_auto_columns": null,
            "grid_auto_flow": null,
            "grid_auto_rows": null,
            "grid_column": null,
            "grid_gap": null,
            "grid_row": null,
            "grid_template_areas": null,
            "grid_template_columns": null,
            "grid_template_rows": null,
            "height": null,
            "justify_content": null,
            "justify_items": null,
            "left": null,
            "margin": null,
            "max_height": null,
            "max_width": null,
            "min_height": null,
            "min_width": null,
            "object_fit": null,
            "object_position": null,
            "order": null,
            "overflow": null,
            "overflow_x": null,
            "overflow_y": null,
            "padding": null,
            "right": null,
            "top": null,
            "visibility": null,
            "width": null
          }
        },
        "b812f2e1a25f4cca8e80262461b6ecc6": {
          "model_module": "@jupyter-widgets/controls",
          "model_module_version": "1.5.0",
          "model_name": "HTMLModel",
          "state": {
            "_dom_classes": [],
            "_model_module": "@jupyter-widgets/controls",
            "_model_module_version": "1.5.0",
            "_model_name": "HTMLModel",
            "_view_count": null,
            "_view_module": "@jupyter-widgets/controls",
            "_view_module_version": "1.5.0",
            "_view_name": "HTMLView",
            "description": "",
            "description_tooltip": null,
            "layout": "IPY_MODEL_74e8341328234e0dabbb5ca8a14cb932",
            "placeholder": "​",
            "style": "IPY_MODEL_f8bf895c92c14c8c989030ab6cd031e5",
            "value": "100%"
          }
        },
        "d5dd95be29784a1a92d144c9d6f70277": {
          "model_module": "@jupyter-widgets/controls",
          "model_module_version": "1.5.0",
          "model_name": "DescriptionStyleModel",
          "state": {
            "_model_module": "@jupyter-widgets/controls",
            "_model_module_version": "1.5.0",
            "_model_name": "DescriptionStyleModel",
            "_view_count": null,
            "_view_module": "@jupyter-widgets/base",
            "_view_module_version": "1.2.0",
            "_view_name": "StyleView",
            "description_width": ""
          }
        },
        "d80622ce84c04d31b7a8310b0c47d931": {
          "model_module": "@jupyter-widgets/controls",
          "model_module_version": "1.5.0",
          "model_name": "DescriptionStyleModel",
          "state": {
            "_model_module": "@jupyter-widgets/controls",
            "_model_module_version": "1.5.0",
            "_model_name": "DescriptionStyleModel",
            "_view_count": null,
            "_view_module": "@jupyter-widgets/base",
            "_view_module_version": "1.2.0",
            "_view_name": "StyleView",
            "description_width": ""
          }
        },
        "ec238bf16aea45f8b84e1d6bc6bdcc62": {
          "model_module": "@jupyter-widgets/base",
          "model_module_version": "1.2.0",
          "model_name": "LayoutModel",
          "state": {
            "_model_module": "@jupyter-widgets/base",
            "_model_module_version": "1.2.0",
            "_model_name": "LayoutModel",
            "_view_count": null,
            "_view_module": "@jupyter-widgets/base",
            "_view_module_version": "1.2.0",
            "_view_name": "LayoutView",
            "align_content": null,
            "align_items": null,
            "align_self": null,
            "border": null,
            "bottom": null,
            "display": null,
            "flex": null,
            "flex_flow": null,
            "grid_area": null,
            "grid_auto_columns": null,
            "grid_auto_flow": null,
            "grid_auto_rows": null,
            "grid_column": null,
            "grid_gap": null,
            "grid_row": null,
            "grid_template_areas": null,
            "grid_template_columns": null,
            "grid_template_rows": null,
            "height": null,
            "justify_content": null,
            "justify_items": null,
            "left": null,
            "margin": null,
            "max_height": null,
            "max_width": null,
            "min_height": null,
            "min_width": null,
            "object_fit": null,
            "object_position": null,
            "order": null,
            "overflow": null,
            "overflow_x": null,
            "overflow_y": null,
            "padding": null,
            "right": null,
            "top": null,
            "visibility": null,
            "width": null
          }
        },
        "f0cb2437356049f099293bfa80686139": {
          "model_module": "@jupyter-widgets/base",
          "model_module_version": "1.2.0",
          "model_name": "LayoutModel",
          "state": {
            "_model_module": "@jupyter-widgets/base",
            "_model_module_version": "1.2.0",
            "_model_name": "LayoutModel",
            "_view_count": null,
            "_view_module": "@jupyter-widgets/base",
            "_view_module_version": "1.2.0",
            "_view_name": "LayoutView",
            "align_content": null,
            "align_items": null,
            "align_self": null,
            "border": null,
            "bottom": null,
            "display": null,
            "flex": null,
            "flex_flow": null,
            "grid_area": null,
            "grid_auto_columns": null,
            "grid_auto_flow": null,
            "grid_auto_rows": null,
            "grid_column": null,
            "grid_gap": null,
            "grid_row": null,
            "grid_template_areas": null,
            "grid_template_columns": null,
            "grid_template_rows": null,
            "height": null,
            "justify_content": null,
            "justify_items": null,
            "left": null,
            "margin": null,
            "max_height": null,
            "max_width": null,
            "min_height": null,
            "min_width": null,
            "object_fit": null,
            "object_position": null,
            "order": null,
            "overflow": null,
            "overflow_x": null,
            "overflow_y": null,
            "padding": null,
            "right": null,
            "top": null,
            "visibility": null,
            "width": null
          }
        },
        "f31d81991d544872b4c5cb3f3b3dab82": {
          "model_module": "@jupyter-widgets/base",
          "model_module_version": "1.2.0",
          "model_name": "LayoutModel",
          "state": {
            "_model_module": "@jupyter-widgets/base",
            "_model_module_version": "1.2.0",
            "_model_name": "LayoutModel",
            "_view_count": null,
            "_view_module": "@jupyter-widgets/base",
            "_view_module_version": "1.2.0",
            "_view_name": "LayoutView",
            "align_content": null,
            "align_items": null,
            "align_self": null,
            "border": null,
            "bottom": null,
            "display": null,
            "flex": null,
            "flex_flow": null,
            "grid_area": null,
            "grid_auto_columns": null,
            "grid_auto_flow": null,
            "grid_auto_rows": null,
            "grid_column": null,
            "grid_gap": null,
            "grid_row": null,
            "grid_template_areas": null,
            "grid_template_columns": null,
            "grid_template_rows": null,
            "height": null,
            "justify_content": null,
            "justify_items": null,
            "left": null,
            "margin": null,
            "max_height": null,
            "max_width": null,
            "min_height": null,
            "min_width": null,
            "object_fit": null,
            "object_position": null,
            "order": null,
            "overflow": null,
            "overflow_x": null,
            "overflow_y": null,
            "padding": null,
            "right": null,
            "top": null,
            "visibility": null,
            "width": null
          }
        },
        "f8178411cc214044a636c5f7e5b26072": {
          "model_module": "@jupyter-widgets/controls",
          "model_module_version": "1.5.0",
          "model_name": "HBoxModel",
          "state": {
            "_dom_classes": [],
            "_model_module": "@jupyter-widgets/controls",
            "_model_module_version": "1.5.0",
            "_model_name": "HBoxModel",
            "_view_count": null,
            "_view_module": "@jupyter-widgets/controls",
            "_view_module_version": "1.5.0",
            "_view_name": "HBoxView",
            "box_style": "",
            "children": [
              "IPY_MODEL_1f203480263c4e378938b11a9441389a",
              "IPY_MODEL_7802f60ff63b47ac9746d8d1b960105b",
              "IPY_MODEL_47393cb112d34016aa10680f113e72bc"
            ],
            "layout": "IPY_MODEL_15fe4566e0af4b02a7334ebb0e205ede"
          }
        },
        "f8bf895c92c14c8c989030ab6cd031e5": {
          "model_module": "@jupyter-widgets/controls",
          "model_module_version": "1.5.0",
          "model_name": "DescriptionStyleModel",
          "state": {
            "_model_module": "@jupyter-widgets/controls",
            "_model_module_version": "1.5.0",
            "_model_name": "DescriptionStyleModel",
            "_view_count": null,
            "_view_module": "@jupyter-widgets/base",
            "_view_module_version": "1.2.0",
            "_view_name": "StyleView",
            "description_width": ""
          }
        }
      }
    }
  },
  "nbformat": 4,
  "nbformat_minor": 0
}
